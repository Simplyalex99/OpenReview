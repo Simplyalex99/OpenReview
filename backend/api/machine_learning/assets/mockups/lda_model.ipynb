{
  "nbformat": 4,
  "nbformat_minor": 0,
  "metadata": {
    "colab": {
      "provenance": []
    },
    "kernelspec": {
      "name": "python3",
      "display_name": "Python 3"
    },
    "language_info": {
      "name": "python"
    }
  },
  "cells": [
    {
      "cell_type": "markdown",
      "source": [
        "## Load dataset"
      ],
      "metadata": {
        "id": "BAff47nm9te_"
      }
    },
    {
      "cell_type": "code",
      "source": [
        "import pandas as pd\n",
        "from google.colab import files\n",
        "import io\n",
        "uploaded = files.upload()\n",
        "yelp_df = pd.read_csv(io.BytesIO(uploaded['open_source_1.csv']))"
      ],
      "metadata": {
        "id": "9zOgirWx9maI",
        "colab": {
          "base_uri": "https://localhost:8080/",
          "height": 74
        },
        "outputId": "db7f94e7-cc0a-446f-a7d6-0f8f8f3fe6f5"
      },
      "execution_count": 1,
      "outputs": [
        {
          "output_type": "display_data",
          "data": {
            "text/plain": [
              "<IPython.core.display.HTML object>"
            ],
            "text/html": [
              "\n",
              "     <input type=\"file\" id=\"files-07ba51da-41ed-45b3-b81d-9fabcf2f8d2f\" name=\"files[]\" multiple disabled\n",
              "        style=\"border:none\" />\n",
              "     <output id=\"result-07ba51da-41ed-45b3-b81d-9fabcf2f8d2f\">\n",
              "      Upload widget is only available when the cell has been executed in the\n",
              "      current browser session. Please rerun this cell to enable.\n",
              "      </output>\n",
              "      <script>// Copyright 2017 Google LLC\n",
              "//\n",
              "// Licensed under the Apache License, Version 2.0 (the \"License\");\n",
              "// you may not use this file except in compliance with the License.\n",
              "// You may obtain a copy of the License at\n",
              "//\n",
              "//      http://www.apache.org/licenses/LICENSE-2.0\n",
              "//\n",
              "// Unless required by applicable law or agreed to in writing, software\n",
              "// distributed under the License is distributed on an \"AS IS\" BASIS,\n",
              "// WITHOUT WARRANTIES OR CONDITIONS OF ANY KIND, either express or implied.\n",
              "// See the License for the specific language governing permissions and\n",
              "// limitations under the License.\n",
              "\n",
              "/**\n",
              " * @fileoverview Helpers for google.colab Python module.\n",
              " */\n",
              "(function(scope) {\n",
              "function span(text, styleAttributes = {}) {\n",
              "  const element = document.createElement('span');\n",
              "  element.textContent = text;\n",
              "  for (const key of Object.keys(styleAttributes)) {\n",
              "    element.style[key] = styleAttributes[key];\n",
              "  }\n",
              "  return element;\n",
              "}\n",
              "\n",
              "// Max number of bytes which will be uploaded at a time.\n",
              "const MAX_PAYLOAD_SIZE = 100 * 1024;\n",
              "\n",
              "function _uploadFiles(inputId, outputId) {\n",
              "  const steps = uploadFilesStep(inputId, outputId);\n",
              "  const outputElement = document.getElementById(outputId);\n",
              "  // Cache steps on the outputElement to make it available for the next call\n",
              "  // to uploadFilesContinue from Python.\n",
              "  outputElement.steps = steps;\n",
              "\n",
              "  return _uploadFilesContinue(outputId);\n",
              "}\n",
              "\n",
              "// This is roughly an async generator (not supported in the browser yet),\n",
              "// where there are multiple asynchronous steps and the Python side is going\n",
              "// to poll for completion of each step.\n",
              "// This uses a Promise to block the python side on completion of each step,\n",
              "// then passes the result of the previous step as the input to the next step.\n",
              "function _uploadFilesContinue(outputId) {\n",
              "  const outputElement = document.getElementById(outputId);\n",
              "  const steps = outputElement.steps;\n",
              "\n",
              "  const next = steps.next(outputElement.lastPromiseValue);\n",
              "  return Promise.resolve(next.value.promise).then((value) => {\n",
              "    // Cache the last promise value to make it available to the next\n",
              "    // step of the generator.\n",
              "    outputElement.lastPromiseValue = value;\n",
              "    return next.value.response;\n",
              "  });\n",
              "}\n",
              "\n",
              "/**\n",
              " * Generator function which is called between each async step of the upload\n",
              " * process.\n",
              " * @param {string} inputId Element ID of the input file picker element.\n",
              " * @param {string} outputId Element ID of the output display.\n",
              " * @return {!Iterable<!Object>} Iterable of next steps.\n",
              " */\n",
              "function* uploadFilesStep(inputId, outputId) {\n",
              "  const inputElement = document.getElementById(inputId);\n",
              "  inputElement.disabled = false;\n",
              "\n",
              "  const outputElement = document.getElementById(outputId);\n",
              "  outputElement.innerHTML = '';\n",
              "\n",
              "  const pickedPromise = new Promise((resolve) => {\n",
              "    inputElement.addEventListener('change', (e) => {\n",
              "      resolve(e.target.files);\n",
              "    });\n",
              "  });\n",
              "\n",
              "  const cancel = document.createElement('button');\n",
              "  inputElement.parentElement.appendChild(cancel);\n",
              "  cancel.textContent = 'Cancel upload';\n",
              "  const cancelPromise = new Promise((resolve) => {\n",
              "    cancel.onclick = () => {\n",
              "      resolve(null);\n",
              "    };\n",
              "  });\n",
              "\n",
              "  // Wait for the user to pick the files.\n",
              "  const files = yield {\n",
              "    promise: Promise.race([pickedPromise, cancelPromise]),\n",
              "    response: {\n",
              "      action: 'starting',\n",
              "    }\n",
              "  };\n",
              "\n",
              "  cancel.remove();\n",
              "\n",
              "  // Disable the input element since further picks are not allowed.\n",
              "  inputElement.disabled = true;\n",
              "\n",
              "  if (!files) {\n",
              "    return {\n",
              "      response: {\n",
              "        action: 'complete',\n",
              "      }\n",
              "    };\n",
              "  }\n",
              "\n",
              "  for (const file of files) {\n",
              "    const li = document.createElement('li');\n",
              "    li.append(span(file.name, {fontWeight: 'bold'}));\n",
              "    li.append(span(\n",
              "        `(${file.type || 'n/a'}) - ${file.size} bytes, ` +\n",
              "        `last modified: ${\n",
              "            file.lastModifiedDate ? file.lastModifiedDate.toLocaleDateString() :\n",
              "                                    'n/a'} - `));\n",
              "    const percent = span('0% done');\n",
              "    li.appendChild(percent);\n",
              "\n",
              "    outputElement.appendChild(li);\n",
              "\n",
              "    const fileDataPromise = new Promise((resolve) => {\n",
              "      const reader = new FileReader();\n",
              "      reader.onload = (e) => {\n",
              "        resolve(e.target.result);\n",
              "      };\n",
              "      reader.readAsArrayBuffer(file);\n",
              "    });\n",
              "    // Wait for the data to be ready.\n",
              "    let fileData = yield {\n",
              "      promise: fileDataPromise,\n",
              "      response: {\n",
              "        action: 'continue',\n",
              "      }\n",
              "    };\n",
              "\n",
              "    // Use a chunked sending to avoid message size limits. See b/62115660.\n",
              "    let position = 0;\n",
              "    do {\n",
              "      const length = Math.min(fileData.byteLength - position, MAX_PAYLOAD_SIZE);\n",
              "      const chunk = new Uint8Array(fileData, position, length);\n",
              "      position += length;\n",
              "\n",
              "      const base64 = btoa(String.fromCharCode.apply(null, chunk));\n",
              "      yield {\n",
              "        response: {\n",
              "          action: 'append',\n",
              "          file: file.name,\n",
              "          data: base64,\n",
              "        },\n",
              "      };\n",
              "\n",
              "      let percentDone = fileData.byteLength === 0 ?\n",
              "          100 :\n",
              "          Math.round((position / fileData.byteLength) * 100);\n",
              "      percent.textContent = `${percentDone}% done`;\n",
              "\n",
              "    } while (position < fileData.byteLength);\n",
              "  }\n",
              "\n",
              "  // All done.\n",
              "  yield {\n",
              "    response: {\n",
              "      action: 'complete',\n",
              "    }\n",
              "  };\n",
              "}\n",
              "\n",
              "scope.google = scope.google || {};\n",
              "scope.google.colab = scope.google.colab || {};\n",
              "scope.google.colab._files = {\n",
              "  _uploadFiles,\n",
              "  _uploadFilesContinue,\n",
              "};\n",
              "})(self);\n",
              "</script> "
            ]
          },
          "metadata": {}
        },
        {
          "output_type": "stream",
          "name": "stdout",
          "text": [
            "Saving open_source_1.csv to open_source_1.csv\n"
          ]
        }
      ]
    },
    {
      "cell_type": "markdown",
      "source": [
        "## Principal component analysis\n",
        "1. Preparing data; Retreive all category columns and perform binary encoding \n",
        "2. Fit data to pca\n",
        "3. Visualize PCA"
      ],
      "metadata": {
        "id": "EYeGJXC69wlR"
      }
    },
    {
      "cell_type": "code",
      "execution_count": 2,
      "metadata": {
        "id": "cfNbMZ-49DQc",
        "colab": {
          "base_uri": "https://localhost:8080/"
        },
        "outputId": "aba7b7c2-ecf0-483b-a4cc-cb0d881a0b07"
      },
      "outputs": [
        {
          "output_type": "stream",
          "name": "stdout",
          "text": [
            "Looking in indexes: https://pypi.org/simple, https://us-python.pkg.dev/colab-wheels/public/simple/\n",
            "Collecting category_encoders\n",
            "  Downloading category_encoders-2.6.0-py2.py3-none-any.whl (81 kB)\n",
            "\u001b[2K     \u001b[90m━━━━━━━━━━━━━━━━━━━━━━━━━━━━━━━━━━━━━━━━\u001b[0m \u001b[32m81.2/81.2 KB\u001b[0m \u001b[31m3.6 MB/s\u001b[0m eta \u001b[36m0:00:00\u001b[0m\n",
            "\u001b[?25hRequirement already satisfied: patsy>=0.5.1 in /usr/local/lib/python3.9/dist-packages (from category_encoders) (0.5.3)\n",
            "Requirement already satisfied: scikit-learn>=0.20.0 in /usr/local/lib/python3.9/dist-packages (from category_encoders) (1.2.2)\n",
            "Requirement already satisfied: scipy>=1.0.0 in /usr/local/lib/python3.9/dist-packages (from category_encoders) (1.10.1)\n",
            "Requirement already satisfied: numpy>=1.14.0 in /usr/local/lib/python3.9/dist-packages (from category_encoders) (1.22.4)\n",
            "Requirement already satisfied: pandas>=1.0.5 in /usr/local/lib/python3.9/dist-packages (from category_encoders) (1.4.4)\n",
            "Requirement already satisfied: statsmodels>=0.9.0 in /usr/local/lib/python3.9/dist-packages (from category_encoders) (0.13.5)\n",
            "Requirement already satisfied: python-dateutil>=2.8.1 in /usr/local/lib/python3.9/dist-packages (from pandas>=1.0.5->category_encoders) (2.8.2)\n",
            "Requirement already satisfied: pytz>=2020.1 in /usr/local/lib/python3.9/dist-packages (from pandas>=1.0.5->category_encoders) (2022.7.1)\n",
            "Requirement already satisfied: six in /usr/local/lib/python3.9/dist-packages (from patsy>=0.5.1->category_encoders) (1.15.0)\n",
            "Requirement already satisfied: joblib>=1.1.1 in /usr/local/lib/python3.9/dist-packages (from scikit-learn>=0.20.0->category_encoders) (1.1.1)\n",
            "Requirement already satisfied: threadpoolctl>=2.0.0 in /usr/local/lib/python3.9/dist-packages (from scikit-learn>=0.20.0->category_encoders) (3.1.0)\n",
            "Requirement already satisfied: packaging>=21.3 in /usr/local/lib/python3.9/dist-packages (from statsmodels>=0.9.0->category_encoders) (23.0)\n",
            "Installing collected packages: category_encoders\n",
            "Successfully installed category_encoders-2.6.0\n"
          ]
        }
      ],
      "source": [
        "!pip install category_encoders\n",
        "import category_encoders as ce\n",
        "cat_cols = yelp_df.drop(columns=['score','rating','business_id','rating_strength']).columns.values\n",
        "be= ce.BinaryEncoder(cols= cat_cols,drop_invariant=True).fit(yelp_df)\n",
        "df= be.transform(yelp_df)\n"
      ]
    },
    {
      "cell_type": "code",
      "source": [
        "from sklearn.decomposition import PCA\n",
        "X = df.drop(columns=['score','business_id','rating_strength']).to_numpy()\n",
        "pca= PCA(n_components=2,random_state=42)\n",
        "pca.fit(X)\n",
        "x_pca = pca.transform(X)"
      ],
      "metadata": {
        "id": "B-ec9Lh9-37i"
      },
      "execution_count": 3,
      "outputs": []
    },
    {
      "cell_type": "code",
      "source": [
        "import matplotlib.pyplot as plt\n",
        "plt.figure(figsize=(8,6))\n",
        "plt.scatter(x_pca[:,0],x_pca[:,1],c=df['score'],cmap='plasma')\n",
        "plt.xlabel('First PCA')\n",
        "plt.ylabel('Second PCA')"
      ],
      "metadata": {
        "id": "wVKfYTpx-9_5",
        "colab": {
          "base_uri": "https://localhost:8080/",
          "height": 406
        },
        "outputId": "eb8a0a99-2a0f-4f80-96bf-01af54fe1a90"
      },
      "execution_count": 4,
      "outputs": [
        {
          "output_type": "execute_result",
          "data": {
            "text/plain": [
              "Text(0, 0.5, 'Second PCA')"
            ]
          },
          "metadata": {},
          "execution_count": 4
        },
        {
          "output_type": "display_data",
          "data": {
            "text/plain": [
              "<Figure size 576x432 with 1 Axes>"
            ],
            "image/png": "[encoded data removed]"
          },
          "metadata": {
            "needs_background": "light"
          }
        }
      ]
    },
    {
      "cell_type": "markdown",
      "source": [
        "## TSNE analysis\n",
        "\n",
        "1. fitting pca data into tsne \n",
        "2. visualizing tsne"
      ],
      "metadata": {
        "id": "ueBDo6rZ_CxT"
      }
    },
    {
      "cell_type": "code",
      "source": [
        "from sklearn.manifold import TSNE\n",
        "from sklearn.pipeline import Pipeline\n",
        "pca_tsne= Pipeline([(\"pca\", PCA(n_components= 2, random_state=33)),\n",
        "                    (\"tsne\", TSNE(n_components=2,\n",
        "                                  perplexity= 170,\n",
        "                                  random_state=33, \n",
        "                                  learning_rate= 350, \n",
        "                                  n_iter= 5000,\n",
        "                                  n_jobs=-1,\n",
        "                                  n_iter_without_progress=150,\n",
        "                                  verbose=1))])\n"
      ],
      "metadata": {
        "id": "xuLWk4f3_O55"
      },
      "execution_count": 5,
      "outputs": []
    },
    {
      "cell_type": "code",
      "source": [
        "df_pca_tsne_reduced= pca_tsne.fit_transform(X)"
      ],
      "metadata": {
        "colab": {
          "base_uri": "https://localhost:8080/"
        },
        "id": "kmhdPcXVt9oC",
        "outputId": "9a391431-58d7-43ef-ce11-e19fdc329a08"
      },
      "execution_count": 6,
      "outputs": [
        {
          "output_type": "stream",
          "name": "stdout",
          "text": [
            "[t-SNE] Computing 511 nearest neighbors...\n",
            "[t-SNE] Indexed 4372 samples in 0.006s...\n",
            "[t-SNE] Computed neighbors for 4372 samples in 0.413s...\n",
            "[t-SNE] Computed conditional probabilities for sample 1000 / 4372\n",
            "[t-SNE] Computed conditional probabilities for sample 2000 / 4372\n",
            "[t-SNE] Computed conditional probabilities for sample 3000 / 4372\n",
            "[t-SNE] Computed conditional probabilities for sample 4000 / 4372\n",
            "[t-SNE] Computed conditional probabilities for sample 4372 / 4372\n",
            "[t-SNE] Mean sigma: 0.031653\n",
            "[t-SNE] KL divergence after 250 iterations with early exaggeration: 41.259201\n",
            "[t-SNE] KL divergence after 5000 iterations: 0.057544\n"
          ]
        }
      ]
    },
    {
      "cell_type": "code",
      "source": [
        "import seaborn as sns\n",
        "plt.scatter(df_pca_tsne_reduced[:,0], df_pca_tsne_reduced[:,1])\n",
        "plt.show()"
      ],
      "metadata": {
        "id": "sqBybJQa_Bir",
        "colab": {
          "base_uri": "https://localhost:8080/",
          "height": 757
        },
        "outputId": "779dd0a8-5499-4818-ae70-8ab9ad6b5081"
      },
      "execution_count": 10,
      "outputs": [
        {
          "output_type": "display_data",
          "data": {
            "text/plain": [
              "<Figure size 936x936 with 1 Axes>"
            ],
            "image/png": "[encoded data removed]"
          },
          "metadata": {}
        }
      ]
    },
    {
      "cell_type": "markdown",
      "source": [
        "## Kmeans trainning\n",
        "\n",
        "1. Fitting pca_tsne data into model\n",
        "2. Find optimal k clusters\n",
        "3. Visualize k clusters and their score\n",
        "4. Visualizing k means labels compared to tsne fitted with pca"
      ],
      "metadata": {
        "id": "uKgvB5As_rwc"
      }
    },
    {
      "cell_type": "code",
      "source": [
        "from sklearn.cluster import KMeans\n",
        "\n",
        "sns.set(rc= {'figure.figsize': (7,7)})\n",
        "number_of_clusters = range(1,20)\n",
        "\n",
        "\n",
        "kmeans = [KMeans(n_clusters=i,max_iter=1000,random_state=33) for i in number_of_clusters]\n",
        "score = [-1*kmeans[i].fit(df_pca_tsne_reduced).score(df_pca_tsne_reduced) for i in range(len(kmeans))]\n",
        "\n",
        "\n",
        "plt.plot((number_of_clusters),score)\n",
        "plt.xlabel('Number of Clusters')\n",
        "plt.ylabel('Score')\n",
        "plt.title('Elbow Curve')\n",
        "plt.show()"
      ],
      "metadata": {
        "id": "uui4Bsog_wyx",
        "colab": {
          "base_uri": "https://localhost:8080/",
          "height": 1000
        },
        "outputId": "7f67705f-293a-416e-ee08-b21ad532e120"
      },
      "execution_count": 11,
      "outputs": [
        {
          "output_type": "stream",
          "name": "stderr",
          "text": [
            "/usr/local/lib/python3.9/dist-packages/sklearn/cluster/_kmeans.py:870: FutureWarning: The default value of `n_init` will change from 10 to 'auto' in 1.4. Set the value of `n_init` explicitly to suppress the warning\n",
            "  warnings.warn(\n",
            "/usr/local/lib/python3.9/dist-packages/sklearn/cluster/_kmeans.py:870: FutureWarning: The default value of `n_init` will change from 10 to 'auto' in 1.4. Set the value of `n_init` explicitly to suppress the warning\n",
            "  warnings.warn(\n",
            "/usr/local/lib/python3.9/dist-packages/sklearn/cluster/_kmeans.py:870: FutureWarning: The default value of `n_init` will change from 10 to 'auto' in 1.4. Set the value of `n_init` explicitly to suppress the warning\n",
            "  warnings.warn(\n",
            "/usr/local/lib/python3.9/dist-packages/sklearn/cluster/_kmeans.py:870: FutureWarning: The default value of `n_init` will change from 10 to 'auto' in 1.4. Set the value of `n_init` explicitly to suppress the warning\n",
            "  warnings.warn(\n",
            "/usr/local/lib/python3.9/dist-packages/sklearn/cluster/_kmeans.py:870: FutureWarning: The default value of `n_init` will change from 10 to 'auto' in 1.4. Set the value of `n_init` explicitly to suppress the warning\n",
            "  warnings.warn(\n",
            "/usr/local/lib/python3.9/dist-packages/sklearn/cluster/_kmeans.py:870: FutureWarning: The default value of `n_init` will change from 10 to 'auto' in 1.4. Set the value of `n_init` explicitly to suppress the warning\n",
            "  warnings.warn(\n",
            "/usr/local/lib/python3.9/dist-packages/sklearn/cluster/_kmeans.py:870: FutureWarning: The default value of `n_init` will change from 10 to 'auto' in 1.4. Set the value of `n_init` explicitly to suppress the warning\n",
            "  warnings.warn(\n",
            "/usr/local/lib/python3.9/dist-packages/sklearn/cluster/_kmeans.py:870: FutureWarning: The default value of `n_init` will change from 10 to 'auto' in 1.4. Set the value of `n_init` explicitly to suppress the warning\n",
            "  warnings.warn(\n",
            "/usr/local/lib/python3.9/dist-packages/sklearn/cluster/_kmeans.py:870: FutureWarning: The default value of `n_init` will change from 10 to 'auto' in 1.4. Set the value of `n_init` explicitly to suppress the warning\n",
            "  warnings.warn(\n",
            "/usr/local/lib/python3.9/dist-packages/sklearn/cluster/_kmeans.py:870: FutureWarning: The default value of `n_init` will change from 10 to 'auto' in 1.4. Set the value of `n_init` explicitly to suppress the warning\n",
            "  warnings.warn(\n",
            "/usr/local/lib/python3.9/dist-packages/sklearn/cluster/_kmeans.py:870: FutureWarning: The default value of `n_init` will change from 10 to 'auto' in 1.4. Set the value of `n_init` explicitly to suppress the warning\n",
            "  warnings.warn(\n",
            "/usr/local/lib/python3.9/dist-packages/sklearn/cluster/_kmeans.py:870: FutureWarning: The default value of `n_init` will change from 10 to 'auto' in 1.4. Set the value of `n_init` explicitly to suppress the warning\n",
            "  warnings.warn(\n",
            "/usr/local/lib/python3.9/dist-packages/sklearn/cluster/_kmeans.py:870: FutureWarning: The default value of `n_init` will change from 10 to 'auto' in 1.4. Set the value of `n_init` explicitly to suppress the warning\n",
            "  warnings.warn(\n",
            "/usr/local/lib/python3.9/dist-packages/sklearn/cluster/_kmeans.py:870: FutureWarning: The default value of `n_init` will change from 10 to 'auto' in 1.4. Set the value of `n_init` explicitly to suppress the warning\n",
            "  warnings.warn(\n",
            "/usr/local/lib/python3.9/dist-packages/sklearn/cluster/_kmeans.py:870: FutureWarning: The default value of `n_init` will change from 10 to 'auto' in 1.4. Set the value of `n_init` explicitly to suppress the warning\n",
            "  warnings.warn(\n",
            "/usr/local/lib/python3.9/dist-packages/sklearn/cluster/_kmeans.py:870: FutureWarning: The default value of `n_init` will change from 10 to 'auto' in 1.4. Set the value of `n_init` explicitly to suppress the warning\n",
            "  warnings.warn(\n",
            "/usr/local/lib/python3.9/dist-packages/sklearn/cluster/_kmeans.py:870: FutureWarning: The default value of `n_init` will change from 10 to 'auto' in 1.4. Set the value of `n_init` explicitly to suppress the warning\n",
            "  warnings.warn(\n",
            "/usr/local/lib/python3.9/dist-packages/sklearn/cluster/_kmeans.py:870: FutureWarning: The default value of `n_init` will change from 10 to 'auto' in 1.4. Set the value of `n_init` explicitly to suppress the warning\n",
            "  warnings.warn(\n",
            "/usr/local/lib/python3.9/dist-packages/sklearn/cluster/_kmeans.py:870: FutureWarning: The default value of `n_init` will change from 10 to 'auto' in 1.4. Set the value of `n_init` explicitly to suppress the warning\n",
            "  warnings.warn(\n"
          ]
        },
        {
          "output_type": "display_data",
          "data": {
            "text/plain": [
              "<Figure size 504x504 with 1 Axes>"
            ],
            "image/png": "[encoded data removed]"
          },
          "metadata": {}
        }
      ]
    },
    {
      "cell_type": "code",
      "source": [
        "k_means_test = KMeans(n_clusters=3, max_iter=1500, random_state=33,verbose=1)\n",
        "-1*k_means_test.fit(df_pca_tsne_reduced).score(df_pca_tsne_reduced)\n",
        "y_pred= k_means_test.labels_\n",
        "palette = sns.hls_palette(3, l=.4, s=.9)\n",
        "sns.set(rc= {'figure.figsize': (13,13)})\n",
        "sns.scatterplot(x=df_pca_tsne_reduced[:,0], y=df_pca_tsne_reduced[:,1], hue= y_pred, legend='full', palette=palette)\n",
        "plt.title(\"t-sne with KMeans labels\")\n",
        "plt.show()"
      ],
      "metadata": {
        "colab": {
          "base_uri": "https://localhost:8080/",
          "height": 1000
        },
        "id": "Fdh7yOuGntf3",
        "outputId": "ac98e5dd-d28a-4684-da34-b39218d68223"
      },
      "execution_count": 13,
      "outputs": [
        {
          "output_type": "stream",
          "name": "stderr",
          "text": [
            "/usr/local/lib/python3.9/dist-packages/sklearn/cluster/_kmeans.py:870: FutureWarning: The default value of `n_init` will change from 10 to 'auto' in 1.4. Set the value of `n_init` explicitly to suppress the warning\n",
            "  warnings.warn(\n"
          ]
        },
        {
          "output_type": "stream",
          "name": "stdout",
          "text": [
            "Initialization complete\n",
            "Iteration 0, inertia 5848868.5.\n",
            "Iteration 1, inertia 3670030.5.\n",
            "Iteration 2, inertia 3369898.0.\n",
            "Iteration 3, inertia 3327784.5.\n",
            "Iteration 4, inertia 3316854.0.\n",
            "Converged at iteration 4: strict convergence.\n",
            "Initialization complete\n",
            "Iteration 0, inertia 4503672.0.\n",
            "Iteration 1, inertia 3543579.0.\n",
            "Iteration 2, inertia 3491960.5.\n",
            "Iteration 3, inertia 3431829.5.\n",
            "Iteration 4, inertia 3426289.5.\n",
            "Iteration 5, inertia 3420169.25.\n",
            "Iteration 6, inertia 3381840.25.\n",
            "Iteration 7, inertia 3374118.5.\n",
            "Converged at iteration 7: strict convergence.\n",
            "Initialization complete\n",
            "Iteration 0, inertia 4311234.0.\n",
            "Iteration 1, inertia 3675915.75.\n",
            "Iteration 2, inertia 3445372.5.\n",
            "Iteration 3, inertia 3328503.0.\n",
            "Converged at iteration 3: strict convergence.\n",
            "Initialization complete\n",
            "Iteration 0, inertia 4207160.0.\n",
            "Iteration 1, inertia 3357155.75.\n",
            "Converged at iteration 1: strict convergence.\n",
            "Initialization complete\n",
            "Iteration 0, inertia 4813721.5.\n",
            "Iteration 1, inertia 3680318.0.\n",
            "Iteration 2, inertia 3574279.75.\n",
            "Iteration 3, inertia 3490414.0.\n",
            "Iteration 4, inertia 3431239.25.\n",
            "Iteration 5, inertia 3426289.5.\n",
            "Iteration 6, inertia 3420169.25.\n",
            "Iteration 7, inertia 3381840.25.\n",
            "Iteration 8, inertia 3374118.5.\n",
            "Converged at iteration 8: strict convergence.\n",
            "Initialization complete\n",
            "Iteration 0, inertia 4605905.0.\n",
            "Iteration 1, inertia 3479797.0.\n",
            "Iteration 2, inertia 3453886.5.\n",
            "Iteration 3, inertia 3418251.0.\n",
            "Iteration 4, inertia 3377149.75.\n",
            "Iteration 5, inertia 3342614.5.\n",
            "Iteration 6, inertia 3316854.0.\n",
            "Converged at iteration 6: strict convergence.\n",
            "Initialization complete\n",
            "Iteration 0, inertia 4740176.0.\n",
            "Iteration 1, inertia 4438224.5.\n",
            "Iteration 2, inertia 4099987.0.\n",
            "Iteration 3, inertia 3998581.75.\n",
            "Iteration 4, inertia 3977429.25.\n",
            "Iteration 5, inertia 3878070.5.\n",
            "Iteration 6, inertia 3817217.0.\n",
            "Converged at iteration 6: strict convergence.\n",
            "Initialization complete\n",
            "Iteration 0, inertia 5277586.0.\n",
            "Iteration 1, inertia 3644719.0.\n",
            "Iteration 2, inertia 3577773.5.\n",
            "Converged at iteration 2: strict convergence.\n",
            "Initialization complete\n",
            "Iteration 0, inertia 5889935.5.\n",
            "Iteration 1, inertia 4547506.0.\n",
            "Iteration 2, inertia 3865437.0.\n",
            "Iteration 3, inertia 3817217.0.\n",
            "Converged at iteration 3: strict convergence.\n",
            "Initialization complete\n",
            "Iteration 0, inertia 5707992.0.\n",
            "Iteration 1, inertia 4064716.5.\n",
            "Iteration 2, inertia 3786409.75.\n",
            "Iteration 3, inertia 3763341.0.\n",
            "Converged at iteration 3: strict convergence.\n"
          ]
        },
        {
          "output_type": "display_data",
          "data": {
            "text/plain": [
              "<Figure size 936x936 with 1 Axes>"
            ],
            "image/png": "[encoded data removed]"
          },
          "metadata": {}
        }
      ]
    },
    {
      "cell_type": "markdown",
      "source": [
        "## Preprocessing data for LDA model\n",
        "1. Removal of special chatacters, stop words, and lemmatize text\n",
        "2. Make bigrams for better classifcation"
      ],
      "metadata": {
        "id": "qsBJhIrfnbsz"
      }
    },
    {
      "cell_type": "code",
      "source": [
        "import nltk\n",
        "import re\n",
        "nltk.download('stopwords')\n",
        "from nltk.corpus import stopwords\n",
        "nltk.download('wordnet')\n",
        "from nltk.stem import WordNetLemmatizer\n",
        "from nltk import pos_tag\n",
        "nltk.download('averaged_perceptron_tagger')\n",
        "def get_stop_words(words_to_exclude=[],language='english'):\n",
        "  all_stop_words = stopwords.words(language.lower())\n",
        "  if len(words_to_exclude)!=0:\n",
        "    for word in words_to_exclude:\n",
        "      all_stop_words.remove(word)\n",
        "  return all_stop_words\n",
        "def lemmatize_text(paragraph):\n",
        "  words_excluded = []\n",
        "  all_stop_words = get_stop_words(words_excluded)\n",
        "  lemmatization= WordNetLemmatizer()\n",
        "  \n",
        "  review = re.sub('[^a-zA-Z]',' ',paragraph)\n",
        "  review = review.lower()\n",
        "  # Tokenization\n",
        "  review= review.split()\n",
        "  review = [lemmatization.lemmatize(word) for word in review if word not in set(all_stop_words)]\n",
        "  review =' '.join(review)\n",
        "  return review\n",
        "def filter_noun(text):\n",
        "  is_noun = lambda pos: pos[0:2]== 'NN'\n",
        "  text_split = text.split()\n",
        "  nouns_adj = [word for (word,pos) in pos_tag(text_split) if is_noun(pos)]\n",
        "  return nouns_adj  "
      ],
      "metadata": {
        "colab": {
          "base_uri": "https://localhost:8080/"
        },
        "id": "7IBzREb0nYnJ",
        "outputId": "611199a7-77f6-4075-84b4-343fb97a12a3"
      },
      "execution_count": 16,
      "outputs": [
        {
          "output_type": "stream",
          "name": "stderr",
          "text": [
            "[nltk_data] Downloading package stopwords to /root/nltk_data...\n",
            "[nltk_data]   Package stopwords is already up-to-date!\n",
            "[nltk_data] Downloading package wordnet to /root/nltk_data...\n",
            "[nltk_data]   Package wordnet is already up-to-date!\n",
            "[nltk_data] Downloading package averaged_perceptron_tagger to\n",
            "[nltk_data]     /root/nltk_data...\n",
            "[nltk_data]   Package averaged_perceptron_tagger is already up-to-\n",
            "[nltk_data]       date!\n"
          ]
        }
      ]
    },
    {
      "cell_type": "code",
      "source": [
        "clean_df = yelp_df['text'].apply(lemmatize_text).apply(filter_noun)"
      ],
      "metadata": {
        "id": "eFk_XumtoHxz"
      },
      "execution_count": 17,
      "outputs": []
    },
    {
      "cell_type": "code",
      "source": [
        "from gensim.models.phrases import Phrases, Phraser\n",
        "docs= list(clean_df)\n",
        "phrases = Phrases(docs, min_count=10, threshold=20)\n",
        "bigram_model = Phraser(phrases)\n",
        "def make_bigrams(texts):\n",
        "    return [bigram_model[doc] for doc in texts]\n",
        "\n",
        "# Form Bigrams\n",
        "data_words_bigrams = make_bigrams(docs)"
      ],
      "metadata": {
        "id": "DqKC0RpBoUut"
      },
      "execution_count": 18,
      "outputs": []
    },
    {
      "cell_type": "code",
      "source": [
        "# Conver bigrams to dictionary\n",
        "import gensim\n",
        "from gensim import corpora\n",
        "dictionary= corpora.Dictionary(data_words_bigrams)\n",
        "\n",
        "# Filter out words that occur less than 20 documents, or more than 70% of the documents.\n",
        "dictionary.filter_extremes(no_below=20, no_above=0.7)\n",
        "corpus = [dictionary.doc2bow(doc) for doc in docs]\n",
        "\n",
        "print('Number of unique tokens: %d' % len(dictionary))\n",
        "print('Number of documents: %d' % len(corpus))"
      ],
      "metadata": {
        "colab": {
          "base_uri": "https://localhost:8080/"
        },
        "id": "f2DPy8JGpcX2",
        "outputId": "be8ad4d6-fc50-41f7-e115-c2e30cdc1efe"
      },
      "execution_count": 19,
      "outputs": [
        {
          "output_type": "stream",
          "name": "stdout",
          "text": [
            "Number of unique tokens: 420\n",
            "Number of documents: 4372\n"
          ]
        }
      ]
    },
    {
      "cell_type": "markdown",
      "source": [
        "## LDA model and anaylsis"
      ],
      "metadata": {
        "id": "oVOx-_eEpxeW"
      }
    },
    {
      "cell_type": "code",
      "source": [
        "from gensim.models.ldamulticore import LdaMulticore\n",
        "import numpy as np\n",
        "passes= 150\n",
        "np.random.seed(1) \n",
        "ldamodel= LdaMulticore(corpus, \n",
        "                    id2word=dictionary, \n",
        "                    num_topics=4, \n",
        "                    alpha='asymmetric', \n",
        "                    chunksize= 4000, \n",
        "                    batch= True,\n",
        "                    minimum_probability=0.001,\n",
        "                    iterations=350,random_state=1,\n",
        "                    passes=passes)   "
      ],
      "metadata": {
        "id": "asbd6QcxpuuA"
      },
      "execution_count": 20,
      "outputs": []
    },
    {
      "cell_type": "code",
      "source": [
        "ldamodel.show_topics(num_words=3, formatted=False)"
      ],
      "metadata": {
        "colab": {
          "base_uri": "https://localhost:8080/"
        },
        "id": "xJCIVXE_p4W7",
        "outputId": "afff3d26-f255-401c-be1f-e14c7f288342"
      },
      "execution_count": 21,
      "outputs": [
        {
          "output_type": "execute_result",
          "data": {
            "text/plain": [
              "[(0,\n",
              "  [('pizza', 0.034946512), ('place', 0.024912855), ('service', 0.021931747)]),\n",
              " (1, [('food', 0.092712626), ('great', 0.07851582), ('good', 0.048668966)]),\n",
              " (2, [('place', 0.039198488), ('car', 0.022928497), ('coffee', 0.022765012)]),\n",
              " (3, [('time', 0.08654103), ('review', 0.059025995), ('place', 0.0421923)])]"
            ]
          },
          "metadata": {},
          "execution_count": 21
        }
      ]
    },
    {
      "cell_type": "code",
      "source": [
        "# ldamodel topics \n",
        "categories_dict = {\n",
        "    0:\"others\",\n",
        "    1:\"food\" ,\n",
        "    2:\"experience\",\n",
        "    3: \"service\"\n",
        "\n",
        "}"
      ],
      "metadata": {
        "id": "tt1GU-uwp6yK"
      },
      "execution_count": null,
      "outputs": []
    }
  ]
}