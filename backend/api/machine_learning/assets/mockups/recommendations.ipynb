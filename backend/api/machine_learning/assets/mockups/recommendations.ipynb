{
  "nbformat": 4,
  "nbformat_minor": 0,
  "metadata": {
    "colab": {
      "provenance": []
    },
    "kernelspec": {
      "name": "python3",
      "display_name": "Python 3"
    },
    "language_info": {
      "name": "python"
    }
  },
  "cells": [
    {
      "cell_type": "markdown",
      "source": [
        "## Load dataset"
      ],
      "metadata": {
        "id": "RgyCwdmWAPyr"
      }
    },
    {
      "cell_type": "code",
      "execution_count": null,
      "metadata": {
        "id": "kaGAw5sU-ZHa"
      },
      "outputs": [],
      "source": [
        "from google.colab import files\n",
        "import pandas as pd\n",
        "import io\n",
        "uploaded = files.upload()\n",
        "yelp_df = pd.read_csv(io.BytesIO(uploaded['yelp_pearson.csv']))\n",
        "yelp_df.head()"
      ]
    },
    {
      "cell_type": "markdown",
      "source": [
        "## Preprocess data into pearson correlation"
      ],
      "metadata": {
        "id": "QbDxfHnlBQ1_"
      }
    },
    {
      "cell_type": "code",
      "source": [
        "# convert categories col to list\n",
        "yelp_df[\"categories\"] = yelp_df[\"categories\"].apply(eval)\n",
        "# convert catergories col to series\n",
        "yelp_series = yelp_df[\"categories\"].apply(pd.Series)"
      ],
      "metadata": {
        "id": "DVxC2VQOAR1v"
      },
      "execution_count": null,
      "outputs": []
    },
    {
      "cell_type": "code",
      "source": [
        "def boolean_df(item_lists, unique_items):\n",
        "# Create empty dict\n",
        "    bool_dict = {}\n",
        "    \n",
        "    # Loop through all the tags\n",
        "    for i, item in enumerate(unique_items):\n",
        "        \n",
        "        # Apply boolean mask\n",
        "        bool_dict[item] = item_lists.apply(lambda x: item in x)\n",
        "            \n",
        "    # Return the results as a dataframe\n",
        "    return pd.DataFrame(bool_dict)\n",
        "df_bool = boolean_df(yelp_df['categories'], yelp_dict.keys())\n",
        "df_bool.head()"
      ],
      "metadata": {
        "id": "OJRZR9jsBPlQ"
      },
      "execution_count": null,
      "outputs": []
    },
    {
      "cell_type": "code",
      "source": [
        "categories_corr = df_bool.corr(method = \"pearson\")"
      ],
      "metadata": {
        "id": "O6VbG0rUBdJJ"
      },
      "execution_count": null,
      "outputs": []
    },
    {
      "cell_type": "markdown",
      "source": [
        "## Anaylsis: Finding highly correlated categories to Italian > 0.1 cutoff"
      ],
      "metadata": {
        "id": "R9AyHNeeBqVX"
      }
    },
    {
      "cell_type": "code",
      "source": [
        "cat = 'Italian'\n",
        "categories_corr[cat].loc[categories_corr['Italian'] > 0.1]"
      ],
      "metadata": {
        "id": "bqMd1OQYBj43"
      },
      "execution_count": null,
      "outputs": []
    }
  ]
}